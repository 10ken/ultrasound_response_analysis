{
 "cells": [
  {
   "cell_type": "code",
   "execution_count": 9,
   "id": "a2a76fdf",
   "metadata": {},
   "outputs": [],
   "source": [
    "# All Libraries\n",
    "import pandas as pd\n",
    "from scipy.stats import chi2_contingency\n",
    "import json"
   ]
  },
  {
   "cell_type": "markdown",
   "id": "0ffc12a9",
   "metadata": {},
   "source": [
    "# Helper Functions"
   ]
  },
  {
   "cell_type": "code",
   "execution_count": 24,
   "id": "05ea9660",
   "metadata": {},
   "outputs": [],
   "source": [
    "def chi_2_test(data, patient_group_1, patient_group_2, question):\n",
    "    both_patient_group_df = data[\n",
    "        (data['Patient Group'] == patient_group_1) |\n",
    "        (data['Patient Group'] == patient_group_2)\n",
    "    ]\n",
    "    question= '14) Did you experience any nausea over the last 2 weeks? If so, how many days of the past two weeks?'\n",
    "\n",
    "    both_patient_group_q = both_patient_group_df[['Patient Group', question]]\n",
    "\n",
    "    both_patient_group_q_contingency = pd.crosstab(both_patient_group_q['Patient Group'], both_patient_group_q[question])\n",
    "\n",
    "    chi_2, p_value, dof, expected = chi2_contingency(both_patient_group_q_contingency)\n",
    "    \n",
    "    print(f\"The Chi Squared value is {chi_2}\")\n",
    "    print(f\"The p value is {p_value}\")\n",
    "    print(f\"The degrees of freedoms is {dof}\")\n",
    "    \n",
    "    \n",
    "# Example of how to use\n",
    "# ### input below ##\n",
    "# patient_group_1 = 'Definitive Stricture'\n",
    "# patient_group_2 = 'Probably Stricture'\n",
    "# question = '14) Did you experience any nausea over the last 2 weeks? If so, how many days of the past two weeks?'\n",
    "\n",
    "# ### Dont change below #####\n",
    "\n",
    "# chi_2_test(data, patient_group_1, patient_group_2, question)"
   ]
  },
  {
   "cell_type": "code",
   "execution_count": null,
   "id": "da295cc2",
   "metadata": {},
   "outputs": [],
   "source": []
  },
  {
   "cell_type": "markdown",
   "id": "46e2c442",
   "metadata": {},
   "source": [
    "# Analysis"
   ]
  },
  {
   "cell_type": "code",
   "execution_count": 27,
   "id": "45ddba25",
   "metadata": {},
   "outputs": [
    {
     "data": {
      "text/html": [
       "<div>\n",
       "<style scoped>\n",
       "    .dataframe tbody tr th:only-of-type {\n",
       "        vertical-align: middle;\n",
       "    }\n",
       "\n",
       "    .dataframe tbody tr th {\n",
       "        vertical-align: top;\n",
       "    }\n",
       "\n",
       "    .dataframe thead th {\n",
       "        text-align: right;\n",
       "    }\n",
       "</style>\n",
       "<table border=\"1\" class=\"dataframe\">\n",
       "  <thead>\n",
       "    <tr style=\"text-align: right;\">\n",
       "      <th></th>\n",
       "      <th>Patient Group</th>\n",
       "      <th>14) Did you experience any nausea over the last 2 weeks? If so, how many days of the past two weeks?</th>\n",
       "      <th>15) Did you experience any nausea over the last 2 months? If so, how many days of the past two months?</th>\n",
       "      <th>16) Out of the days where you experienced nausea how severe would you say it was on average over the past two weeks?</th>\n",
       "      <th>17) Out of the days where you experienced nausea how severe would you say it was on average over the past 2 months?</th>\n",
       "      <th>13) Over the course of 2 weeks from now, did you experience increasing pain after a meal?</th>\n",
       "      <th>14) Over the course of 2 months from now, did you experience increasing pain after a meal?</th>\n",
       "      <th>6) In the past 2 weeks did you experience abdominal bloating and if so, how severe?</th>\n",
       "      <th>7) In the past 2 months did you experience abdominal bloating and if so, how severe?</th>\n",
       "      <th>18) Did you experience any vomiting over the last 2 weeks? If so, how many days of the past two weeks?</th>\n",
       "      <th>19) Did you experience any vomiting over the last 2 months? If so, how many days of the past two months?</th>\n",
       "      <th>20) Out of the days where you experienced vomiting how severe would you say it was on average over the past two weeks?</th>\n",
       "      <th>21) Out of the days where you experienced vomiting how severe would you say it was on average over the past two months?</th>\n",
       "      <th>2) Over the course of 2 weeks how many of these days did you experience obstructive pain?</th>\n",
       "      <th>3) If none to question 2, have you had any obstructive pain over the past 2 months and for how many days?</th>\n",
       "      <th>4) On average how severe was your obstructive pain over the last two weeks?</th>\n",
       "      <th>5) On average how severe was your obstructive pain over the last two months?</th>\n",
       "    </tr>\n",
       "  </thead>\n",
       "  <tbody>\n",
       "    <tr>\n",
       "      <th>0</th>\n",
       "      <td>Definitive Stricture</td>\n",
       "      <td>1</td>\n",
       "      <td>2</td>\n",
       "      <td>1</td>\n",
       "      <td>1</td>\n",
       "      <td>1</td>\n",
       "      <td>1</td>\n",
       "      <td>1</td>\n",
       "      <td>1</td>\n",
       "      <td>1</td>\n",
       "      <td>1</td>\n",
       "      <td>2</td>\n",
       "      <td>2</td>\n",
       "      <td>1</td>\n",
       "      <td>3</td>\n",
       "      <td>1</td>\n",
       "      <td>3</td>\n",
       "    </tr>\n",
       "    <tr>\n",
       "      <th>1</th>\n",
       "      <td>Probably Stricture</td>\n",
       "      <td>3</td>\n",
       "      <td>3</td>\n",
       "      <td>2</td>\n",
       "      <td>2</td>\n",
       "      <td>2</td>\n",
       "      <td>2</td>\n",
       "      <td>0</td>\n",
       "      <td>2</td>\n",
       "      <td>1</td>\n",
       "      <td>1</td>\n",
       "      <td>2</td>\n",
       "      <td>2</td>\n",
       "      <td>0</td>\n",
       "      <td>3</td>\n",
       "      <td>0</td>\n",
       "      <td>0</td>\n",
       "    </tr>\n",
       "    <tr>\n",
       "      <th>2</th>\n",
       "      <td>Probably Stricture</td>\n",
       "      <td>0</td>\n",
       "      <td>0</td>\n",
       "      <td>0</td>\n",
       "      <td>0</td>\n",
       "      <td>2</td>\n",
       "      <td>2</td>\n",
       "      <td>0</td>\n",
       "      <td>0</td>\n",
       "      <td>1</td>\n",
       "      <td>1</td>\n",
       "      <td>2</td>\n",
       "      <td>2</td>\n",
       "      <td>1</td>\n",
       "      <td>3</td>\n",
       "      <td>0</td>\n",
       "      <td>0</td>\n",
       "    </tr>\n",
       "    <tr>\n",
       "      <th>3</th>\n",
       "      <td>Definitive Stricture</td>\n",
       "      <td>3</td>\n",
       "      <td>3</td>\n",
       "      <td>2</td>\n",
       "      <td>2</td>\n",
       "      <td>2</td>\n",
       "      <td>2</td>\n",
       "      <td>2</td>\n",
       "      <td>2</td>\n",
       "      <td>1</td>\n",
       "      <td>1</td>\n",
       "      <td>2</td>\n",
       "      <td>2</td>\n",
       "      <td>4</td>\n",
       "      <td>3</td>\n",
       "      <td>3</td>\n",
       "      <td>3</td>\n",
       "    </tr>\n",
       "    <tr>\n",
       "      <th>4</th>\n",
       "      <td>Probably Stricture</td>\n",
       "      <td>3</td>\n",
       "      <td>0</td>\n",
       "      <td>2</td>\n",
       "      <td>1</td>\n",
       "      <td>3</td>\n",
       "      <td>3</td>\n",
       "      <td>2</td>\n",
       "      <td>1</td>\n",
       "      <td>1</td>\n",
       "      <td>0</td>\n",
       "      <td>1</td>\n",
       "      <td>1</td>\n",
       "      <td>4</td>\n",
       "      <td>3</td>\n",
       "      <td>3</td>\n",
       "      <td>3</td>\n",
       "    </tr>\n",
       "  </tbody>\n",
       "</table>\n",
       "</div>"
      ],
      "text/plain": [
       "          Patient Group  \\\n",
       "0  Definitive Stricture   \n",
       "1    Probably Stricture   \n",
       "2    Probably Stricture   \n",
       "3  Definitive Stricture   \n",
       "4    Probably Stricture   \n",
       "\n",
       "   14) Did you experience any nausea over the last 2 weeks? If so, how many days of the past two weeks?  \\\n",
       "0                                                  1                                                      \n",
       "1                                                  3                                                      \n",
       "2                                                  0                                                      \n",
       "3                                                  3                                                      \n",
       "4                                                  3                                                      \n",
       "\n",
       "   15) Did you experience any nausea over the last 2 months? If so, how many days of the past two months?  \\\n",
       "0                                                  2                                                        \n",
       "1                                                  3                                                        \n",
       "2                                                  0                                                        \n",
       "3                                                  3                                                        \n",
       "4                                                  0                                                        \n",
       "\n",
       "   16) Out of the days where you experienced nausea how severe would you say it was on average over the past two weeks?  \\\n",
       "0                                                  1                                                                      \n",
       "1                                                  2                                                                      \n",
       "2                                                  0                                                                      \n",
       "3                                                  2                                                                      \n",
       "4                                                  2                                                                      \n",
       "\n",
       "   17) Out of the days where you experienced nausea how severe would you say it was on average over the past 2 months?  \\\n",
       "0                                                  1                                                                     \n",
       "1                                                  2                                                                     \n",
       "2                                                  0                                                                     \n",
       "3                                                  2                                                                     \n",
       "4                                                  1                                                                     \n",
       "\n",
       "   13) Over the course of 2 weeks from now, did you experience increasing pain after a meal?  \\\n",
       "0                                                  1                                           \n",
       "1                                                  2                                           \n",
       "2                                                  2                                           \n",
       "3                                                  2                                           \n",
       "4                                                  3                                           \n",
       "\n",
       "   14) Over the course of 2 months from now, did you experience increasing pain after a meal?  \\\n",
       "0                                                  1                                            \n",
       "1                                                  2                                            \n",
       "2                                                  2                                            \n",
       "3                                                  2                                            \n",
       "4                                                  3                                            \n",
       "\n",
       "   6) In the past 2 weeks did you experience abdominal bloating and if so, how severe?  \\\n",
       "0                                                  1                                     \n",
       "1                                                  0                                     \n",
       "2                                                  0                                     \n",
       "3                                                  2                                     \n",
       "4                                                  2                                     \n",
       "\n",
       "   7) In the past 2 months did you experience abdominal bloating and if so, how severe?  \\\n",
       "0                                                  1                                      \n",
       "1                                                  2                                      \n",
       "2                                                  0                                      \n",
       "3                                                  2                                      \n",
       "4                                                  1                                      \n",
       "\n",
       "   18) Did you experience any vomiting over the last 2 weeks? If so, how many days of the past two weeks?  \\\n",
       "0                                                  1                                                        \n",
       "1                                                  1                                                        \n",
       "2                                                  1                                                        \n",
       "3                                                  1                                                        \n",
       "4                                                  1                                                        \n",
       "\n",
       "   19) Did you experience any vomiting over the last 2 months? If so, how many days of the past two months?  \\\n",
       "0                                                  1                                                          \n",
       "1                                                  1                                                          \n",
       "2                                                  1                                                          \n",
       "3                                                  1                                                          \n",
       "4                                                  0                                                          \n",
       "\n",
       "   20) Out of the days where you experienced vomiting how severe would you say it was on average over the past two weeks?  \\\n",
       "0                                                  2                                                                        \n",
       "1                                                  2                                                                        \n",
       "2                                                  2                                                                        \n",
       "3                                                  2                                                                        \n",
       "4                                                  1                                                                        \n",
       "\n",
       "   21) Out of the days where you experienced vomiting how severe would you say it was on average over the past two months?  \\\n",
       "0                                                  2                                                                         \n",
       "1                                                  2                                                                         \n",
       "2                                                  2                                                                         \n",
       "3                                                  2                                                                         \n",
       "4                                                  1                                                                         \n",
       "\n",
       "   2) Over the course of 2 weeks how many of these days did you experience obstructive pain?  \\\n",
       "0                                                  1                                           \n",
       "1                                                  0                                           \n",
       "2                                                  1                                           \n",
       "3                                                  4                                           \n",
       "4                                                  4                                           \n",
       "\n",
       "   3) If none to question 2, have you had any obstructive pain over the past 2 months and for how many days?  \\\n",
       "0                                                  3                                                           \n",
       "1                                                  3                                                           \n",
       "2                                                  3                                                           \n",
       "3                                                  3                                                           \n",
       "4                                                  3                                                           \n",
       "\n",
       "   4) On average how severe was your obstructive pain over the last two weeks?  \\\n",
       "0                                                  1                             \n",
       "1                                                  0                             \n",
       "2                                                  0                             \n",
       "3                                                  3                             \n",
       "4                                                  3                             \n",
       "\n",
       "   5) On average how severe was your obstructive pain over the last two months?  \n",
       "0                                                  3                             \n",
       "1                                                  0                             \n",
       "2                                                  0                             \n",
       "3                                                  3                             \n",
       "4                                                  3                             "
      ]
     },
     "execution_count": 27,
     "metadata": {},
     "output_type": "execute_result"
    }
   ],
   "source": [
    "# specificy file locations\n",
    "data_file_loc = 'data/encoded_data.csv'\n",
    "label_mapping_loc = 'symptom_label_mapping.json'\n",
    "\n",
    "\n",
    "\n",
    "# load saved mapping\n",
    "with open(label_mapping_loc) as f:\n",
    "    mapping = json.load(f)\n",
    "\n",
    "# read in data\n",
    "data = pd.read_csv(data_file_loc)\n",
    "\n",
    "data.head()"
   ]
  },
  {
   "cell_type": "code",
   "execution_count": 4,
   "id": "21bda6b3",
   "metadata": {},
   "outputs": [
    {
     "data": {
      "text/plain": [
       "Probably Stricture      27\n",
       "Definitive Stricture    24\n",
       "Inflammatory            23\n",
       "Name: Patient Group, dtype: int64"
      ]
     },
     "execution_count": 4,
     "metadata": {},
     "output_type": "execute_result"
    }
   ],
   "source": [
    "data['Patient Group'].value_counts()"
   ]
  },
  {
   "cell_type": "code",
   "execution_count": 25,
   "id": "ecdb3e94",
   "metadata": {},
   "outputs": [],
   "source": [
    "# lists of questions related to the symptom\n",
    "nausea_q = [question for question in data.columns if 'nausea' in question]\n",
    "\n",
    "pain_q = [question for question in data.columns if ('pain' in question) & ('obstructive' not in question)]\n",
    "\n",
    "vomit_q = [question for question in data.columns if 'vomit' in question]\n",
    "\n",
    "bloat_q = [question for question in data.columns if 'bloat' in question]\n",
    "                             \n",
    "obstructive_q = [question for question in data.columns if 'obstructive' in question]"
   ]
  },
  {
   "cell_type": "code",
   "execution_count": 26,
   "id": "01920a14",
   "metadata": {},
   "outputs": [],
   "source": [
    "prob_stric = data[\n",
    "                data['Patient Group'] == 'Probably Stricture'\n",
    "                ]\n",
    "\n",
    "def_stric = data[\n",
    "                data['Patient Group'] == 'Definitive Stricture'\n",
    "                ]\n",
    "\n",
    "inflamm = data[\n",
    "                data['Patient Group'] == 'Inflammatory'\n",
    "                ]"
   ]
  },
  {
   "cell_type": "markdown",
   "id": "c4daa4a9",
   "metadata": {},
   "source": [
    "# Nausea"
   ]
  },
  {
   "cell_type": "code",
   "execution_count": 7,
   "id": "497bde68",
   "metadata": {},
   "outputs": [],
   "source": [
    "nausea_prob_stric = prob_stric[nausea_q]\n",
    "nausea_def_stric = def_stric[nausea_q]\n",
    "nausea_inflamm = inflamm[nausea_q]"
   ]
  },
  {
   "cell_type": "markdown",
   "id": "6918407a",
   "metadata": {},
   "source": [
    "## Question:\n",
    "### Is there a significant difference betwen probable and defintive patients for nausea in last 2 weeks?\n",
    "- chi sqaure test\n",
    "- alpha = 0.05"
   ]
  },
  {
   "cell_type": "code",
   "execution_count": 8,
   "id": "a1836e01",
   "metadata": {
    "scrolled": true
   },
   "outputs": [
    {
     "name": "stdout",
     "output_type": "stream",
     "text": [
      "The Chi Squared value is 1.3011499402628435\n",
      "The p value is 0.8611803970021262\n",
      "The degrees of freedoms is 4\n"
     ]
    }
   ],
   "source": [
    "### input below ##\n",
    "patient_group_1 = 'Definitive Stricture'\n",
    "patient_group_2 = 'Probably Stricture'\n",
    "question = '14) Did you experience any nausea over the last 2 weeks? If so, how many days of the past two weeks?'\n",
    "\n",
    "### Dont change below #####\n",
    "\n",
    "chi_2_test(data, patient_group_1, patient_group_2, question)"
   ]
  },
  {
   "cell_type": "markdown",
   "id": "ac3a62c9",
   "metadata": {},
   "source": [
    "Since p_value > 0., therefore fail to reject null hyp, therefore no significant association"
   ]
  },
  {
   "cell_type": "code",
   "execution_count": null,
   "id": "721ae8a2",
   "metadata": {},
   "outputs": [],
   "source": [
    "is there any significant difference between definive and infllmatory group "
   ]
  },
  {
   "cell_type": "code",
   "execution_count": 13,
   "id": "47538f48",
   "metadata": {},
   "outputs": [
    {
     "name": "stdout",
     "output_type": "stream",
     "text": [
      "The Chi Squared value is 3.6240421455938696\n",
      "The p value is 0.45926972516175824\n",
      "The degrees of freedoms is 4\n"
     ]
    }
   ],
   "source": [
    "patient_group_1 = 'Definitive Stricture'\n",
    "patient_group_2 = 'Inflammatory'  # Changed to 'Inflammatory'\n",
    "question = '14) Did you experience any nausea over the last 2 weeks? If so, how many days of the past two weeks?'\n",
    "\n",
    "chi_2_test(data, patient_group_1, patient_group_2, question)\n"
   ]
  },
  {
   "cell_type": "code",
   "execution_count": 14,
   "id": "ff5e51f4",
   "metadata": {},
   "outputs": [
    {
     "name": "stdout",
     "output_type": "stream",
     "text": [
      "The Chi Squared value is 1.8092261059012977\n",
      "The p value is 0.7707939535811835\n",
      "The degrees of freedoms is 4\n"
     ]
    }
   ],
   "source": [
    "# Define the patient groups and question\n",
    "patient_group_1 = 'Probably Stricture'\n",
    "patient_group_2 = 'Inflammatory'\n",
    "question = '14) Did you experience any nausea over the last 2 weeks? If so, how many days of the past two weeks?'\n",
    "\n",
    "# Call the chi_2_test function with these parameters\n",
    "chi_2_test(data, patient_group_1, patient_group_2, question)\n"
   ]
  },
  {
   "cell_type": "markdown",
   "id": "de266831",
   "metadata": {},
   "source": [
    "PAIN AFTER MEAL\n"
   ]
  },
  {
   "cell_type": "code",
   "execution_count": 15,
   "id": "7b7c8c44",
   "metadata": {},
   "outputs": [
    {
     "name": "stdout",
     "output_type": "stream",
     "text": [
      "The Chi Squared value is 1.8092261059012977\n",
      "The p value is 0.7707939535811835\n",
      "The degrees of freedoms is 4\n"
     ]
    }
   ],
   "source": [
    "# Define the patient groups and the new question\n",
    "patient_group_1 = 'Probably Stricture'\n",
    "patient_group_2 = 'Inflammatory'\n",
    "question = '13) Over the course of 2 weeks from now, did you experience increasing pain after a meal?'\n",
    "\n",
    "# Call the chi_2_test function with these parameters\n",
    "chi_2_test(data, patient_group_1, patient_group_2, question)\n"
   ]
  },
  {
   "cell_type": "code",
   "execution_count": 16,
   "id": "f1cd7ade",
   "metadata": {},
   "outputs": [
    {
     "name": "stdout",
     "output_type": "stream",
     "text": [
      "The Chi Squared value is 3.6240421455938696\n",
      "The p value is 0.45926972516175824\n",
      "The degrees of freedoms is 4\n"
     ]
    }
   ],
   "source": [
    "# Define the patient groups for the new comparison\n",
    "patient_group_1 = 'Inflammatory'\n",
    "patient_group_2 = 'Definitive Stricture'\n",
    "question = '13) Over the course of 2 weeks from now, did you experience increasing pain after a meal?'\n",
    "\n",
    "# Call the chi_2_test function with these parameters\n",
    "chi_2_test(data, patient_group_1, patient_group_2, question)\n"
   ]
  },
  {
   "cell_type": "code",
   "execution_count": 17,
   "id": "2930004e",
   "metadata": {},
   "outputs": [
    {
     "name": "stdout",
     "output_type": "stream",
     "text": [
      "The Chi Squared value is 1.3011499402628435\n",
      "The p value is 0.8611803970021262\n",
      "The degrees of freedoms is 4\n"
     ]
    }
   ],
   "source": [
    "# Define the patient groups for this comparison\n",
    "patient_group_1 = 'Definitive Stricture'\n",
    "patient_group_2 = 'Probably Stricture'\n",
    "question = '13) Over the course of 2 weeks from now, did you experience increasing pain after a meal?'\n",
    "\n",
    "# Call the chi_2_test function with these parameters\n",
    "chi_2_test(data, patient_group_1, patient_group_2, question)\n"
   ]
  },
  {
   "cell_type": "markdown",
   "id": "8a6d56e3",
   "metadata": {},
   "source": [
    "BLOATING OVER 2 WEEKS"
   ]
  },
  {
   "cell_type": "code",
   "execution_count": 18,
   "id": "295063b3",
   "metadata": {},
   "outputs": [
    {
     "name": "stdout",
     "output_type": "stream",
     "text": [
      "The Chi Squared value is 1.3011499402628435\n",
      "The p value is 0.8611803970021262\n",
      "The degrees of freedoms is 4\n"
     ]
    }
   ],
   "source": [
    "# Define the patient groups\n",
    "patient_group_1 = 'Definitive Stricture'\n",
    "patient_group_2 = 'Probably Stricture'\n",
    "# Update to the specific text of question 6\n",
    "question = '6) In the past 2 weeks did you experience abdominal bloating and if so, how severe?'\n",
    "\n",
    "# Call the chi_2_test function with these updated parameters\n",
    "chi_2_test(data, patient_group_1, patient_group_2, question)\n"
   ]
  },
  {
   "cell_type": "code",
   "execution_count": 19,
   "id": "14eb790c",
   "metadata": {},
   "outputs": [
    {
     "name": "stdout",
     "output_type": "stream",
     "text": [
      "The Chi Squared value is 3.6240421455938696\n",
      "The p value is 0.45926972516175824\n",
      "The degrees of freedoms is 4\n"
     ]
    }
   ],
   "source": [
    "# Define the patient groups for the new comparison\n",
    "patient_group_1 = 'Definitive Stricture'\n",
    "patient_group_2 = 'Inflammatory'\n",
    "# The specific text of question 6\n",
    "question = '6) In the past 2 weeks did you experience abdominal bloating and if so, how severe?'\n",
    "\n",
    "# Call the chi_2_test function with these updated parameters\n",
    "chi_2_test(data, patient_group_1, patient_group_2, question)\n"
   ]
  },
  {
   "cell_type": "code",
   "execution_count": 20,
   "id": "a29351c8",
   "metadata": {},
   "outputs": [
    {
     "name": "stdout",
     "output_type": "stream",
     "text": [
      "The Chi Squared value is 1.8092261059012977\n",
      "The p value is 0.7707939535811835\n",
      "The degrees of freedoms is 4\n"
     ]
    }
   ],
   "source": [
    "# Define the patient groups for this comparison\n",
    "patient_group_1 = 'Probably Stricture'\n",
    "patient_group_2 = 'Inflammatory'\n",
    "# The specific text of question 6\n",
    "question = '6) In the past 2 weeks did you experience abdominal bloating and if so, how severe?'\n",
    "\n",
    "# Call the chi_2_test function with these updated parameters\n",
    "chi_2_test(data, patient_group_1, patient_group_2, question)\n"
   ]
  },
  {
   "cell_type": "markdown",
   "id": "8b1b9e01",
   "metadata": {},
   "source": [
    "QUESTION 18- VOMITTING OVER 2 weeks"
   ]
  },
  {
   "cell_type": "code",
   "execution_count": 21,
   "id": "348eb588",
   "metadata": {},
   "outputs": [
    {
     "name": "stdout",
     "output_type": "stream",
     "text": [
      "The Chi Squared value is 1.8092261059012977\n",
      "The p value is 0.7707939535811835\n",
      "The degrees of freedoms is 4\n"
     ]
    }
   ],
   "source": [
    "# Define the patient groups\n",
    "patient_group_1 = 'Probably Stricture'\n",
    "patient_group_2 = 'Inflammatory'\n",
    "# Update to the specific text of question 18\n",
    "question = '18) Did you experience any vomiting over the last 2 weeks? If so, how many days of the past two weeks?'\n",
    "\n",
    "# Call the chi_2_test function with these updated parameters\n",
    "chi_2_test(data, patient_group_1, patient_group_2, question)\n"
   ]
  },
  {
   "cell_type": "code",
   "execution_count": 22,
   "id": "bb74a53b",
   "metadata": {},
   "outputs": [
    {
     "name": "stdout",
     "output_type": "stream",
     "text": [
      "The Chi Squared value is 3.6240421455938696\n",
      "The p value is 0.45926972516175824\n",
      "The degrees of freedoms is 4\n"
     ]
    }
   ],
   "source": [
    "# Define the patient groups for this comparison\n",
    "patient_group_1 = 'Inflammatory'\n",
    "patient_group_2 = 'Definitive Stricture'\n",
    "# The specific text of question 18\n",
    "question = '18) Did you experience any vomiting over the last 2 weeks? If so, how many days of the past two weeks?'\n",
    "\n",
    "# Call the chi_2_test function with these updated parameters\n",
    "chi_2_test(data, patient_group_1, patient_group_2, question)\n"
   ]
  },
  {
   "cell_type": "code",
   "execution_count": 23,
   "id": "30a1c841",
   "metadata": {},
   "outputs": [
    {
     "name": "stdout",
     "output_type": "stream",
     "text": [
      "The Chi Squared value is 1.3011499402628435\n",
      "The p value is 0.8611803970021262\n",
      "The degrees of freedoms is 4\n"
     ]
    }
   ],
   "source": [
    "# Define the patient groups for this comparison\n",
    "patient_group_1 = 'Definitive Stricture'\n",
    "patient_group_2 = 'Probably Stricture'\n",
    "# The specific text of question 18\n",
    "question = '18) Did you experience any vomiting over the last 2 weeks? If so, how many days of the past two weeks?'\n",
    "\n",
    "# Call the chi_2_test function with these updated parameters\n",
    "chi_2_test(data, patient_group_1, patient_group_2, question)\n"
   ]
  },
  {
   "cell_type": "markdown",
   "id": "d8720d69",
   "metadata": {},
   "source": [
    "# 2 month questions\n"
   ]
  },
  {
   "cell_type": "markdown",
   "id": "298d567d",
   "metadata": {},
   "source": [
    "question 15\n"
   ]
  },
  {
   "cell_type": "code",
   "execution_count": 28,
   "id": "7510a977",
   "metadata": {},
   "outputs": [
    {
     "name": "stdout",
     "output_type": "stream",
     "text": [
      "The Chi Squared value is 1.3011499402628435\n",
      "The p value is 0.8611803970021262\n",
      "The degrees of freedoms is 4\n"
     ]
    }
   ],
   "source": [
    "# Define the patient groups\n",
    "patient_group_1 = 'Definitive Stricture'\n",
    "patient_group_2 = 'Probably Stricture'\n",
    "# Update to the specific text of question 15\n",
    "question = '15) Did you experience any nausea over the last 2 months? If so, how many days of the past two months?'\n",
    "\n",
    "# Call the chi_2_test function with these updated parameters\n",
    "chi_2_test(data, patient_group_1, patient_group_2, question)\n"
   ]
  },
  {
   "cell_type": "code",
   "execution_count": 29,
   "id": "7dc31aff",
   "metadata": {},
   "outputs": [
    {
     "name": "stdout",
     "output_type": "stream",
     "text": [
      "The Chi Squared value is 3.6240421455938696\n",
      "The p value is 0.45926972516175824\n",
      "The degrees of freedoms is 4\n"
     ]
    }
   ],
   "source": [
    "# Define the patient groups for this comparison\n",
    "patient_group_1 = 'Definitive Stricture'\n",
    "patient_group_2 = 'Inflammatory'\n",
    "# The specific text of question 15\n",
    "question = '15) Did you experience any nausea over the last 2 months? If so, how many days of the past two months?'\n",
    "\n",
    "# Call the chi_2_test function with these updated parameters\n",
    "chi_2_test(data, patient_group_1, patient_group_2, question)\n"
   ]
  },
  {
   "cell_type": "code",
   "execution_count": 30,
   "id": "2a535633",
   "metadata": {},
   "outputs": [
    {
     "name": "stdout",
     "output_type": "stream",
     "text": [
      "The Chi Squared value is 1.8092261059012977\n",
      "The p value is 0.7707939535811835\n",
      "The degrees of freedoms is 4\n"
     ]
    }
   ],
   "source": [
    "# Define the patient groups for this comparison\n",
    "patient_group_1 = 'Probably Stricture'\n",
    "patient_group_2 = 'Inflammatory'\n",
    "# The specific text of question 15\n",
    "question = '15) Did you experience any nausea over the last 2 months? If so, how many days of the past two months?'\n",
    "\n",
    "# Call the chi_2_test function with these updated parameters\n",
    "chi_2_test(data, patient_group_1, patient_group_2, question)\n"
   ]
  },
  {
   "cell_type": "markdown",
   "id": "adf02340",
   "metadata": {},
   "source": [
    "POST PRANDIA PAIN FOR 2 MONTHS< question 14"
   ]
  },
  {
   "cell_type": "code",
   "execution_count": 31,
   "id": "b8549ab8",
   "metadata": {},
   "outputs": [
    {
     "name": "stdout",
     "output_type": "stream",
     "text": [
      "The Chi Squared value is 1.8092261059012977\n",
      "The p value is 0.7707939535811835\n",
      "The degrees of freedoms is 4\n"
     ]
    }
   ],
   "source": [
    "# Define the patient groups\n",
    "patient_group_1 = 'Probably Stricture'\n",
    "patient_group_2 = 'Inflammatory'\n",
    "# Update to the specific text of question 14\n",
    "question = '14) Over the course of 2 months from now, did you experience increasing pain after a meal?'\n",
    "\n",
    "# Call the chi_2_test function with these updated parameters\n",
    "chi_2_test(data, patient_group_1, patient_group_2, question)\n"
   ]
  },
  {
   "cell_type": "code",
   "execution_count": 32,
   "id": "ad283a88",
   "metadata": {},
   "outputs": [
    {
     "name": "stdout",
     "output_type": "stream",
     "text": [
      "The Chi Squared value is 1.3011499402628435\n",
      "The p value is 0.8611803970021262\n",
      "The degrees of freedoms is 4\n"
     ]
    }
   ],
   "source": [
    "# Define the patient groups for this comparison\n",
    "patient_group_1 = 'Probably Stricture'\n",
    "patient_group_2 = 'Definitive Stricture'\n",
    "# The specific text of question 14\n",
    "question = '14) Over the course of 2 months from now, did you experience increasing pain after a meal?'\n",
    "\n",
    "# Call the chi_2_test function with these updated parameters\n",
    "chi_2_test(data, patient_group_1, patient_group_2, question)\n"
   ]
  },
  {
   "cell_type": "code",
   "execution_count": 33,
   "id": "b20315af",
   "metadata": {},
   "outputs": [
    {
     "name": "stdout",
     "output_type": "stream",
     "text": [
      "The Chi Squared value is 3.6240421455938696\n",
      "The p value is 0.45926972516175824\n",
      "The degrees of freedoms is 4\n"
     ]
    }
   ],
   "source": [
    "# Define the patient groups for this comparison\n",
    "patient_group_1 = 'Inflammatory'\n",
    "patient_group_2 = 'Definitive Stricture'\n",
    "# The specific text of question 14\n",
    "question = '14) Over the course of 2 months from now, did you experience increasing pain after a meal?'\n",
    "\n",
    "# Call the chi_2_test function with these updated parameters\n",
    "chi_2_test(data, patient_group_1, patient_group_2, question)\n"
   ]
  },
  {
   "cell_type": "markdown",
   "id": "bb1fbcfb",
   "metadata": {},
   "source": [
    "bLOATING OVER 2 MONTHS, question 7"
   ]
  },
  {
   "cell_type": "code",
   "execution_count": 34,
   "id": "dbba0eb4",
   "metadata": {},
   "outputs": [
    {
     "name": "stdout",
     "output_type": "stream",
     "text": [
      "The Chi Squared value is 1.8092261059012977\n",
      "The p value is 0.7707939535811835\n",
      "The degrees of freedoms is 4\n"
     ]
    }
   ],
   "source": [
    "# Define the patient groups\n",
    "patient_group_1 = 'Probably Stricture'\n",
    "patient_group_2 = 'Inflammatory'\n",
    "# Update to the specific text of question 7\n",
    "question = '7) In the past 2 months did you experience abdominal bloating and if so, how severe?'\n",
    "\n",
    "# Call the chi_2_test function with these updated parameters\n",
    "chi_2_test(data, patient_group_1, patient_group_2, question)\n"
   ]
  },
  {
   "cell_type": "code",
   "execution_count": 35,
   "id": "590a7740",
   "metadata": {},
   "outputs": [
    {
     "name": "stdout",
     "output_type": "stream",
     "text": [
      "The Chi Squared value is 1.3011499402628435\n",
      "The p value is 0.8611803970021262\n",
      "The degrees of freedoms is 4\n"
     ]
    }
   ],
   "source": [
    "# Define the patient groups for this comparison\n",
    "patient_group_1 = 'Probably Stricture'\n",
    "patient_group_2 = 'Definitive Stricture'\n",
    "# The specific text of question 7\n",
    "question = '7) In the past 2 months did you experience abdominal bloating and if so, how severe?'\n",
    "\n",
    "# Call the chi_2_test function with these updated parameters\n",
    "chi_2_test(data, patient_group_1, patient_group_2, question)\n"
   ]
  },
  {
   "cell_type": "code",
   "execution_count": 36,
   "id": "417c1ad2",
   "metadata": {},
   "outputs": [
    {
     "name": "stdout",
     "output_type": "stream",
     "text": [
      "The Chi Squared value is 3.6240421455938696\n",
      "The p value is 0.45926972516175824\n",
      "The degrees of freedoms is 4\n"
     ]
    }
   ],
   "source": [
    "# Define the patient groups for this comparison\n",
    "patient_group_1 = 'Definitive Stricture'\n",
    "patient_group_2 = 'Inflammatory'\n",
    "# The specific text of question 7\n",
    "question = '7) In the past 2 months did you experience abdominal bloating and if so, how severe?'\n",
    "\n",
    "# Call the chi_2_test function with these updated parameters\n",
    "chi_2_test(data, patient_group_1, patient_group_2, question)\n"
   ]
  },
  {
   "cell_type": "markdown",
   "id": "ae70dc39",
   "metadata": {},
   "source": [
    "VOMITTING over 2 MONTHS, question 19\n"
   ]
  },
  {
   "cell_type": "code",
   "execution_count": 37,
   "id": "8a9ae516",
   "metadata": {},
   "outputs": [
    {
     "name": "stdout",
     "output_type": "stream",
     "text": [
      "The Chi Squared value is 1.8092261059012977\n",
      "The p value is 0.7707939535811835\n",
      "The degrees of freedoms is 4\n"
     ]
    }
   ],
   "source": [
    "# Define the patient groups\n",
    "patient_group_1 = 'Probably Stricture'\n",
    "patient_group_2 = 'Inflammatory'\n",
    "# Update to the specific text of question 19\n",
    "question = '19) Did you experience any vomiting over the last 2 months? If so, how many days of the past two months?'\n",
    "\n",
    "# Call the chi_2_test function with these updated parameters\n",
    "chi_2_test(data, patient_group_1, patient_group_2, question)\n"
   ]
  },
  {
   "cell_type": "code",
   "execution_count": 38,
   "id": "1ac811c5",
   "metadata": {},
   "outputs": [
    {
     "name": "stdout",
     "output_type": "stream",
     "text": [
      "The Chi Squared value is 1.3011499402628435\n",
      "The p value is 0.8611803970021262\n",
      "The degrees of freedoms is 4\n"
     ]
    }
   ],
   "source": [
    "# Define the patient groups for this comparison\n",
    "patient_group_1 = 'Definitive Stricture'\n",
    "patient_group_2 = 'Probably Stricture'\n",
    "# The specific text of question 19\n",
    "question = '19) Did you experience any vomiting over the last 2 months? If so, how many days of the past two months?'\n",
    "\n",
    "# Call the chi_2_test function with these updated parameters\n",
    "chi_2_test(data, patient_group_1, patient_group_2, question)\n"
   ]
  },
  {
   "cell_type": "code",
   "execution_count": 39,
   "id": "e65f196b",
   "metadata": {},
   "outputs": [
    {
     "name": "stdout",
     "output_type": "stream",
     "text": [
      "The Chi Squared value is 3.6240421455938696\n",
      "The p value is 0.45926972516175824\n",
      "The degrees of freedoms is 4\n"
     ]
    }
   ],
   "source": [
    "# Define the patient groups for this comparison\n",
    "patient_group_1 = 'Inflammatory'\n",
    "patient_group_2 = 'Definitive Stricture'\n",
    "# The specific text of question 19\n",
    "question = '19) Did you experience any vomiting over the last 2 months? If so, how many days of the past two months?'\n",
    "\n",
    "# Call the chi_2_test function with these updated parameters\n",
    "chi_2_test(data, patient_group_1, patient_group_2, question)\n"
   ]
  },
  {
   "cell_type": "code",
   "execution_count": null,
   "id": "1be3e73b",
   "metadata": {},
   "outputs": [],
   "source": []
  }
 ],
 "metadata": {
  "kernelspec": {
   "display_name": "Python 3 (ipykernel)",
   "language": "python",
   "name": "python3"
  },
  "language_info": {
   "codemirror_mode": {
    "name": "ipython",
    "version": 3
   },
   "file_extension": ".py",
   "mimetype": "text/x-python",
   "name": "python",
   "nbconvert_exporter": "python",
   "pygments_lexer": "ipython3",
   "version": "3.9.13"
  }
 },
 "nbformat": 4,
 "nbformat_minor": 5
}
